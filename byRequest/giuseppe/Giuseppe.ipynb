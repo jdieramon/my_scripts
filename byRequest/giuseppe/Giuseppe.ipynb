{
 "cells": [
  {
   "cell_type": "markdown",
   "metadata": {},
   "source": [
    "# Promoter analysis\n",
    "**Jose V. Die**.  \n",
    "\n",
    "Dpt. Genetics - ETSIAM  \n",
    "University of Cordoba"
   ]
  },
  {
   "cell_type": "markdown",
   "metadata": {},
   "source": [
    "<br>"
   ]
  },
  {
   "cell_type": "markdown",
   "metadata": {
    "collapsed": true
   },
   "source": [
    "**Nota: usar funcion reload () to make changes effective after editing .py module**"
   ]
  },
  {
   "cell_type": "code",
   "execution_count": 38,
   "metadata": {
    "collapsed": false
   },
   "outputs": [
    {
     "data": {
      "text/plain": [
       "<module 'my_functions' from 'my_functions.py'>"
      ]
     },
     "execution_count": 38,
     "metadata": {},
     "output_type": "execute_result"
    }
   ],
   "source": [
    "reload(my_functions)"
   ]
  },
  {
   "cell_type": "markdown",
   "metadata": {},
   "source": [
    "<br>"
   ]
  },
  {
   "cell_type": "markdown",
   "metadata": {},
   "source": [
    "### Outline\n",
    "1. Search for number of [occurrences](#Search-for-occurrences) in the actual dataset \n",
    "2. Estimate %[GC](#Estimating-the-average-GC-content) content\n",
    "3. Estimate for number of [occurrences](#Random-promoters-with-at-least-1-regulatory-element) in simulated dataset\n",
    "4. Estimate [P value](#P-value) for the n. occurrences in the actual dataset"
   ]
  },
  {
   "cell_type": "markdown",
   "metadata": {},
   "source": [
    "<br>"
   ]
  },
  {
   "cell_type": "code",
   "execution_count": 1,
   "metadata": {
    "collapsed": false
   },
   "outputs": [
    {
     "name": "stdout",
     "output_type": "stream",
     "text": [
      "/Users/josedie/Desktop/giuseppe\n"
     ]
    }
   ],
   "source": [
    "# set wd for the actual experiment\n",
    "# %cd \"/Users/josedie/Google Drive/Asparagus/2 NBS/data\"\n",
    "%cd \"/Users/josedie/Desktop/giuseppe/\""
   ]
  },
  {
   "cell_type": "markdown",
   "metadata": {},
   "source": [
    "Read the functions needed for the analysis:"
   ]
  },
  {
   "cell_type": "code",
   "execution_count": 2,
   "metadata": {
    "collapsed": false
   },
   "outputs": [],
   "source": [
    "import my_functions"
   ]
  },
  {
   "cell_type": "markdown",
   "metadata": {},
   "source": [
    "I will start by reading the set of sequences saved in the file containing the promoter sequences."
   ]
  },
  {
   "cell_type": "code",
   "execution_count": 3,
   "metadata": {
    "collapsed": false
   },
   "outputs": [],
   "source": [
    "# read Promoter sequences\n",
    "genome = my_functions.readGenome(\"promotore2.fa\")"
   ]
  },
  {
   "cell_type": "markdown",
   "metadata": {},
   "source": [
    "<br>"
   ]
  },
  {
   "cell_type": "markdown",
   "metadata": {},
   "source": [
    "Look at the first lines of the file:"
   ]
  },
  {
   "cell_type": "code",
   "execution_count": 4,
   "metadata": {
    "collapsed": false
   },
   "outputs": [
    {
     "name": "stdout",
     "output_type": "stream",
     "text": [
      ">LOC101496657 mitoferrin-like \r",
      "\r\n",
      "GTTACTTATGAAATGATAAAAAATAGGAGTTGAAGCAAAAATTATTTATTTATATTACTTCTTAAAGAGA\r",
      "\r\n",
      "AGAGATTTGTTGTTTCAATTTTGTATGATTCTTTGTCCGTTTTAAAATAATTGTCAAGATTTAACTATTG\r",
      "\r\n",
      "ACTATTAACAATTGAAAGTAAATGACCTTCATTAACTATTGACTATTAACGATTGAAAGTGTAATGTTGA\r",
      "\r\n",
      "CCAATACCAATGATAATTGTTTAATTCTTGAATCGTATTCTTAGATAGTGTTAATATTTTTTTCGACGCA\r",
      "\r\n",
      "TTGGATAATTTTAATTTTTTCTTGATTAAATTTTAAATTTTAAAATAAGTTGTAACTTGTAAGTATAAGG\r",
      "\r\n",
      "TAAGGGCTCCAACAAATCCCTTACAGGTACTATAAACAACAATCAAGAGCCAATAGACTAATCAAGCTCA\r",
      "\r\n",
      "CACATACTCTTAATCAAGAGCCAATAGACTAATCAAGCTCCCTAGTGTATATGGTGTATAATAGTATGTG\r",
      "\r\n",
      "TAACCTTGATTGGTCTAATTACTCTTAATTGTTTTTTATAGTGGTCCACCAGTGAGGGACTTTTTGGACC\r",
      "\r\n",
      "CTCCCCTTAGAAGCCACCCTAAGTGTTAACATAAAAAATGATTTTTATAATAGTAACTAAATGAAAAAAA\r",
      "\r\n"
     ]
    }
   ],
   "source": [
    "! head promotore.fa"
   ]
  },
  {
   "cell_type": "markdown",
   "metadata": {
    "collapsed": true
   },
   "source": [
    "Total number of sequences:"
   ]
  },
  {
   "cell_type": "code",
   "execution_count": 5,
   "metadata": {
    "collapsed": false
   },
   "outputs": [
    {
     "data": {
      "text/plain": [
       "71"
      ]
     },
     "execution_count": 5,
     "metadata": {},
     "output_type": "execute_result"
    }
   ],
   "source": [
    "len(genome)"
   ]
  },
  {
   "cell_type": "markdown",
   "metadata": {},
   "source": [
    "  "
   ]
  },
  {
   "cell_type": "markdown",
   "metadata": {},
   "source": [
    "Look at the first sequences:"
   ]
  },
  {
   "cell_type": "code",
   "execution_count": 6,
   "metadata": {
    "collapsed": false
   },
   "outputs": [
    {
     "data": {
      "text/plain": [
       "['LOC101496545', 'LOC101507087', 'LOC101498503', 'LOC101496545']"
      ]
     },
     "execution_count": 6,
     "metadata": {},
     "output_type": "execute_result"
    }
   ],
   "source": [
    "names = my_functions.nameGenome(\"promotore2.fa\")\n",
    "names[1:5]"
   ]
  },
  {
   "cell_type": "markdown",
   "metadata": {},
   "source": [
    "<br>"
   ]
  },
  {
   "cell_type": "markdown",
   "metadata": {},
   "source": [
    "### Search for occurrences"
   ]
  },
  {
   "cell_type": "markdown",
   "metadata": {},
   "source": [
    "The domain SRE is defined (according the paper provided by Giuseppe) by the motifs:"
   ]
  },
  {
   "cell_type": "code",
   "execution_count": 7,
   "metadata": {
    "collapsed": true
   },
   "outputs": [],
   "source": [
    "CRE = ['ACCAAAT', 'ACCAACT', 'ACCTAAT', 'ACCTACT', 'ACCAAAC', 'ACCAACC', 'ACCTAAC', 'ACCTACC']"
   ]
  },
  {
   "cell_type": "markdown",
   "metadata": {},
   "source": [
    "The regulatory element is present in some promoters but not in others.  \n",
    "([Promoter],[coordinate ocurr.])"
   ]
  },
  {
   "cell_type": "code",
   "execution_count": 9,
   "metadata": {
    "collapsed": false
   },
   "outputs": [],
   "source": [
    "my_functions.search(CRE, genome); # semicolon at the end of the line: supress output"
   ]
  },
  {
   "cell_type": "markdown",
   "metadata": {},
   "source": [
    "Look at the promoters containing the SRE:"
   ]
  },
  {
   "cell_type": "code",
   "execution_count": 11,
   "metadata": {
    "collapsed": false
   },
   "outputs": [
    {
     "data": {
      "text/plain": [
       "{2,\n",
       " 5,\n",
       " 6,\n",
       " 7,\n",
       " 9,\n",
       " 12,\n",
       " 14,\n",
       " 15,\n",
       " 17,\n",
       " 18,\n",
       " 20,\n",
       " 22,\n",
       " 23,\n",
       " 29,\n",
       " 33,\n",
       " 35,\n",
       " 36,\n",
       " 38,\n",
       " 39,\n",
       " 41,\n",
       " 42,\n",
       " 43,\n",
       " 46,\n",
       " 48,\n",
       " 49,\n",
       " 50,\n",
       " 54,\n",
       " 57,\n",
       " 60,\n",
       " 61,\n",
       " 63,\n",
       " 65,\n",
       " 66,\n",
       " 67}"
      ]
     },
     "execution_count": 11,
     "metadata": {},
     "output_type": "execute_result"
    }
   ],
   "source": [
    "giuseppe = my_functions.search(CRE, genome)\n",
    "set(giuseppe[0])"
   ]
  },
  {
   "cell_type": "code",
   "execution_count": 18,
   "metadata": {
    "collapsed": false
   },
   "outputs": [
    {
     "name": "stdout",
     "output_type": "stream",
     "text": [
      "A total number of 34 promoters contain the SRE element\n"
     ]
    }
   ],
   "source": [
    "print 'A total number of', len(set(giuseppe[0])), 'promoters contain the SRE element'"
   ]
  },
  {
   "cell_type": "markdown",
   "metadata": {},
   "source": [
    "For example, the fist sequence and the coordinate of the occurrence is : "
   ]
  },
  {
   "cell_type": "code",
   "execution_count": 16,
   "metadata": {
    "collapsed": false
   },
   "outputs": [
    {
     "data": {
      "text/plain": [
       "(2, [261])"
      ]
     },
     "execution_count": 16,
     "metadata": {},
     "output_type": "execute_result"
    }
   ],
   "source": [
    "giuseppe[0][0], giuseppe[1][0]"
   ]
  },
  {
   "cell_type": "code",
   "execution_count": 17,
   "metadata": {
    "collapsed": false
   },
   "outputs": [
    {
     "data": {
      "text/plain": [
       "'ACCAAAT'"
      ]
     },
     "execution_count": 17,
     "metadata": {},
     "output_type": "execute_result"
    }
   ],
   "source": [
    "# Check\n",
    "genome[2][261:261+len(CRE[0])]"
   ]
  },
  {
   "cell_type": "code",
   "execution_count": 11,
   "metadata": {
    "collapsed": false
   },
   "outputs": [
    {
     "data": {
      "text/plain": [
       "True"
      ]
     },
     "execution_count": 11,
     "metadata": {},
     "output_type": "execute_result"
    }
   ],
   "source": [
    "'ACCAAAT' in CRE"
   ]
  },
  {
   "cell_type": "markdown",
   "metadata": {},
   "source": [
    "**The promoters containing the SRE element:** "
   ]
  },
  {
   "cell_type": "code",
   "execution_count": 21,
   "metadata": {
    "collapsed": false
   },
   "outputs": [
    {
     "data": {
      "text/plain": [
       "['LOC101507087',\n",
       " 'LOC101511131',\n",
       " 'LOC101507509',\n",
       " 'LOC101488528',\n",
       " 'LOC101512314',\n",
       " 'LOC101497300',\n",
       " 'LOC101509623',\n",
       " 'LOC101508993',\n",
       " 'LOC101510480/LOC101493641',\n",
       " 'LOC101491988',\n",
       " 'LOC101502876',\n",
       " 'LOC101514272',\n",
       " 'LOC101512642',\n",
       " 'LOC101505551',\n",
       " 'LOC101503297',\n",
       " 'LOC101499491',\n",
       " 'LOC101499173',\n",
       " 'LOC101497300',\n",
       " 'LOC101496768',\n",
       " 'LOC101495557',\n",
       " 'LOC101493319',\n",
       " 'LOC101490064',\n",
       " 'LOC101513387',\n",
       " 'LOC101511988',\n",
       " 'LOC101510810',\n",
       " 'LOC101510480',\n",
       " 'LOC101507192',\n",
       " 'LOC101505881',\n",
       " 'LOC101504501',\n",
       " 'LOC101503207',\n",
       " 'LOC101500340',\n",
       " 'LOC101498851',\n",
       " 'LOC101498281',\n",
       " 'LOC101497950']"
      ]
     },
     "execution_count": 21,
     "metadata": {},
     "output_type": "execute_result"
    }
   ],
   "source": [
    "[names[i] for i in list(set(giuseppe[0]))]"
   ]
  },
  {
   "cell_type": "markdown",
   "metadata": {},
   "source": [
    "However, the SRE regulatory element **is not present** in the other promoters."
   ]
  },
  {
   "cell_type": "markdown",
   "metadata": {},
   "source": [
    "#### Summary:"
   ]
  },
  {
   "cell_type": "code",
   "execution_count": 23,
   "metadata": {
    "collapsed": false
   },
   "outputs": [
    {
     "name": "stdout",
     "output_type": "stream",
     "text": [
      "34 promoters with 47 occurrences\n"
     ]
    }
   ],
   "source": [
    "a, b = my_functions.search(CRE, genome)\n",
    "occurr = 0\n",
    "for pos in b :  \n",
    "    occurr += 1\n",
    "print len(set(a)), 'promoters with', occurr, 'occurrences'"
   ]
  },
  {
   "cell_type": "markdown",
   "metadata": {},
   "source": [
    "<br>"
   ]
  },
  {
   "cell_type": "markdown",
   "metadata": {},
   "source": [
    "Now, let´s find out if 34 promoters containing SRE element is expected just by chance."
   ]
  },
  {
   "cell_type": "markdown",
   "metadata": {},
   "source": [
    "### Estimating the average GC content "
   ]
  },
  {
   "cell_type": "markdown",
   "metadata": {},
   "source": [
    "Now I am going to estimate the average %GC content from a set of sequences.  \n",
    "I have estimate GC content because I will use that value later in the analysis. For example, the estimate will be used for Monte Carlo simulations in order to obtain the occurrence and distribution of CREs over a given promoter sequence. "
   ]
  },
  {
   "cell_type": "markdown",
   "metadata": {},
   "source": [
    "**Content GC for each sequence**, using the build-in method GC( )"
   ]
  },
  {
   "cell_type": "code",
   "execution_count": 24,
   "metadata": {
    "collapsed": false
   },
   "outputs": [],
   "source": [
    "from Bio.SeqUtils import GC"
   ]
  },
  {
   "cell_type": "code",
   "execution_count": 25,
   "metadata": {
    "collapsed": false
   },
   "outputs": [
    {
     "name": "stdout",
     "output_type": "stream",
     "text": [
      "21.54\n",
      "30.11\n",
      "24.35\n",
      "31.79\n",
      "30.29\n",
      "23.85\n",
      "29.98\n",
      "23.58\n",
      "24.45\n",
      "24.45\n",
      "29.78\n",
      "32.98\n",
      "28.78\n",
      "19.45\n",
      "34.38\n",
      "24.52\n",
      "26.45\n",
      "32.11\n",
      "36.18\n",
      "24.52\n",
      "25.38\n",
      "30.05\n",
      "37.97\n",
      "24.58\n",
      "27.85\n",
      "29.51\n",
      "19.65\n",
      "19.65\n",
      "34.04\n",
      "19.99\n",
      "28.58\n",
      "24.78\n",
      "39.17\n",
      "33.18\n",
      "25.32\n",
      "23.05\n",
      "23.52\n",
      "19.79\n",
      "28.78\n",
      "27.32\n",
      "18.59\n",
      "26.65\n",
      "32.11\n",
      "32.84\n",
      "33.44\n",
      "17.79\n",
      "30.25\n",
      "26.45\n",
      "24.18\n",
      "25.85\n",
      "32.11\n",
      "25.72\n",
      "26.38\n",
      "34.38\n",
      "30.25\n",
      "25.38\n",
      "41.51\n",
      "37.31\n",
      "26.45\n",
      "28.25\n",
      "21.65\n",
      "34.51\n",
      "31.98\n",
      "23.18\n",
      "23.72\n",
      "28.85\n",
      "29.25\n",
      "26.8\n",
      "25.85\n",
      "28.58\n",
      "28.11\n"
     ]
    }
   ],
   "source": [
    "# avg GC content for each sequence\n",
    "for seq in genome: \n",
    "    print round(GC(seq),2)"
   ]
  },
  {
   "cell_type": "markdown",
   "metadata": {},
   "source": [
    "I want to estimate the total average GC content for the dataset:"
   ]
  },
  {
   "cell_type": "code",
   "execution_count": 26,
   "metadata": {
    "collapsed": false
   },
   "outputs": [
    {
     "name": "stdout",
     "output_type": "stream",
     "text": [
      "27.8038869225\n"
     ]
    }
   ],
   "source": [
    "gc=[]\n",
    "for seq in genome: \n",
    "    gc.append(GC(seq))\n",
    "print sum(gc)/len(gc)"
   ]
  },
  {
   "cell_type": "markdown",
   "metadata": {},
   "source": [
    "Graphical representation of the GC content for the dataset"
   ]
  },
  {
   "cell_type": "code",
   "execution_count": 27,
   "metadata": {
    "collapsed": true
   },
   "outputs": [],
   "source": [
    "%matplotlib inline\n",
    "import pylab\n",
    "\n",
    "def plotGC(genome) : \n",
    "         ejex=[]\n",
    "         ejey=[]\n",
    "         contenido = 0\n",
    "         for i in range(len(genome)) : \n",
    "             ejex.append(i+1)\n",
    "             contenido +=GC(genome[i])\n",
    "             mean = contenido/(i+1)\n",
    "             ejey.append(mean)\n",
    "         pylab.grid()\n",
    "         pylab.plot(ejex,ejey, color = \"steelblue\", lw = 2)\n",
    "         pylab.axis([0,72,20,30]) #marco dimension de los ejes\n",
    "         pylab.title(\"%i Chickpea \\n Promoter sequences\\nGC%% %0.1f to %0.1f\" \\\n",
    "                    % (len(ejey),min(ejey),max(ejey)))\n",
    "         pylab.xlabel(\"Number of promoters\")\n",
    "         pylab.ylabel(\"Content GC%\")\n",
    "        "
   ]
  },
  {
   "cell_type": "code",
   "execution_count": 28,
   "metadata": {
    "collapsed": false
   },
   "outputs": [
    {
     "data": {
      "image/png": "[encoded data removed]",
      "text/plain": [
       "<matplotlib.figure.Figure at 0x10e810bd0>"
      ]
     },
     "metadata": {},
     "output_type": "display_data"
    }
   ],
   "source": [
    "plotGC(genome)\n",
    "pylab.show()"
   ]
  },
  {
   "cell_type": "markdown",
   "metadata": {
    "collapsed": true
   },
   "source": [
    "<br>"
   ]
  },
  {
   "cell_type": "markdown",
   "metadata": {},
   "source": [
    "Estimate % each base in the data set"
   ]
  },
  {
   "cell_type": "code",
   "execution_count": 29,
   "metadata": {
    "collapsed": false
   },
   "outputs": [
    {
     "name": "stdout",
     "output_type": "stream",
     "text": [
      " GC content: 27.8047591367 %\n",
      "\n",
      "A content: 35.2903673423 %\n",
      "T content: 36.904873521 %\n",
      "G content: 13.7861201223 %\n",
      "C content: 14.0186390144 %\n"
     ]
    }
   ],
   "source": [
    "totalBases = my_functions.countBases(genome)['G'] \\\n",
    "    + my_functions.countBases(genome)['C'] \\\n",
    "    + my_functions.countBases(genome)['A'] \\\n",
    "    + my_functions.countBases(genome)['T'] \\\n",
    "    + my_functions.countBases(genome)['N']\n",
    "\n",
    "contA = my_functions.countBases(genome)['A'] / float(totalBases)*100\n",
    "contT = my_functions.countBases(genome)['T'] / float(totalBases)*100\n",
    "contG = my_functions.countBases(genome)['G'] / float(totalBases)*100\n",
    "contC = my_functions.countBases(genome)['C'] / float(totalBases)*100\n",
    "\n",
    "print 'GC content:',contG+contC,'%'\n",
    "print ''\n",
    "print 'A content:',contA,'%'\n",
    "print 'T content:',contT,'%'\n",
    "print 'G content:',contG,'%'\n",
    "print 'C content:',contC,'%'"
   ]
  },
  {
   "cell_type": "markdown",
   "metadata": {
    "collapsed": true
   },
   "source": [
    "<br>"
   ]
  },
  {
   "cell_type": "markdown",
   "metadata": {},
   "source": [
    "This dataset does not contain 'N' because it has been tidied. If the dataset contained 'N' the sum of that% != 100 because we had to weight those 'N'. For weightening N, I´d use the % of each base."
   ]
  },
  {
   "cell_type": "code",
   "execution_count": 27,
   "metadata": {
    "collapsed": false
   },
   "outputs": [
    {
     "data": {
      "text/plain": [
       "0"
      ]
     },
     "execution_count": 27,
     "metadata": {},
     "output_type": "execute_result"
    }
   ],
   "source": [
    "contN = my_functions.countBases(genome)['N']\n",
    "contN"
   ]
  },
  {
   "cell_type": "code",
   "execution_count": 30,
   "metadata": {
    "collapsed": false
   },
   "outputs": [
    {
     "name": "stdout",
     "output_type": "stream",
     "text": [
      "A content: 35.2903673423 %\n",
      "T content: 36.904873521 %\n",
      "G content: 13.7861201223 %\n",
      "C content: 14.0186390144 %\n",
      "\n",
      "GC content: 27.8047591367 %\n"
     ]
    }
   ],
   "source": [
    "print 'A content:',(my_functions.countBases(genome)['A'] + contN * contA/100)/float(totalBases)*100,'%'\n",
    "print 'T content:',(my_functions.countBases(genome)['T'] + contN * contA/100)/float(totalBases)*100,'%'\n",
    "print 'G content:',(my_functions.countBases(genome)['G'] + contN * contA/100)/float(totalBases)*100,'%'\n",
    "print 'C content:',(my_functions.countBases(genome)['C'] + contN * contA/100)/float(totalBases)*100,'%'\n",
    "print ''\n",
    "print 'GC content:',(my_functions.countBases(genome)['G'] \\\n",
    "                     + contN * contA/100)/float(totalBases)*100 \\\n",
    "                    +(my_functions.countBases(genome)['C'] \\\n",
    "                      + contN * contA/100)/float(totalBases)*100,'%'"
   ]
  },
  {
   "cell_type": "markdown",
   "metadata": {
    "collapsed": true
   },
   "source": [
    "<br>"
   ]
  },
  {
   "cell_type": "markdown",
   "metadata": {},
   "source": [
    "**Generar un promotor con bases ponderadas**. Usaremos esos valores para definir la siguiente función: **build a promoter using that GC content**.¶"
   ]
  },
  {
   "cell_type": "code",
   "execution_count": 33,
   "metadata": {
    "collapsed": true
   },
   "outputs": [],
   "source": [
    "from random import choice\n",
    "\n",
    "def weightedchoice(items): \n",
    "    return choice(\"\".join(x * y for x, y in items))"
   ]
  },
  {
   "cell_type": "code",
   "execution_count": 34,
   "metadata": {
    "collapsed": true
   },
   "outputs": [],
   "source": [
    "def getPromoter(length):\n",
    "       '''Genera promotor con bases ponderadas'''\n",
    "       DNA = \"\"\n",
    "       for count in range(length):\n",
    "            DNA+=weightedchoice([('C',14),('G',14),('A',35),('T',37)])  #AQUI tengo que introducir la freq. de cada base\n",
    "       return DNA"
   ]
  },
  {
   "cell_type": "markdown",
   "metadata": {
    "collapsed": true
   },
   "source": [
    "### Random promoters with at least 1 regulatory element"
   ]
  },
  {
   "cell_type": "code",
   "execution_count": 35,
   "metadata": {
    "collapsed": false
   },
   "outputs": [],
   "source": [
    "import random\n",
    "nset = 2000\n",
    "bp = 1500\n",
    "actualSet = len(genome)\n",
    "\n",
    "random.seed(25)\n",
    "vals3 = my_functions.runSimforOneMotif(CRE, 1500, actualSet, 2000)"
   ]
  },
  {
   "cell_type": "code",
   "execution_count": 36,
   "metadata": {
    "collapsed": false
   },
   "outputs": [
    {
     "data": {
      "image/png": "[encoded data removed]",
      "text/plain": [
       "<matplotlib.figure.Figure at 0x10e810d10>"
      ]
     },
     "metadata": {},
     "output_type": "display_data"
    }
   ],
   "source": [
    "%matplotlib inline\n",
    "import pylab\n",
    "numTrials = 2000 \n",
    "yAxis = vals3\n",
    "xAxis = range(1,numTrials+1)\n",
    "pylab.xlabel('N. Simulations')\n",
    "pylab.ylabel('N. Sequences occurring \\n at least 1 SMRE')\n",
    "pylab.plot(xAxis, yAxis, color = \"orange\")\n",
    "pylab.grid()\n",
    "pylab.show()"
   ]
  },
  {
   "cell_type": "markdown",
   "metadata": {
    "collapsed": true
   },
   "source": [
    "**Number of promoters** containing at least 1 SMRE regulatory element just **by chance** over a total of 71 promoters: "
   ]
  },
  {
   "cell_type": "code",
   "execution_count": 41,
   "metadata": {
    "collapsed": false
   },
   "outputs": [
    {
     "data": {
      "text/plain": [
       "37.993"
      ]
     },
     "execution_count": 41,
     "metadata": {},
     "output_type": "execute_result"
    }
   ],
   "source": [
    "vals3[1999]"
   ]
  },
  {
   "cell_type": "markdown",
   "metadata": {
    "collapsed": true
   },
   "source": [
    "En lugar de estimar en el numero de promotores que deberian haber salido conteniendo al menos 1 motivo, podria estimar del mismo modo el **numero de motivos** que deberian haber salido **por azar**."
   ]
  },
  {
   "cell_type": "code",
   "execution_count": 42,
   "metadata": {
    "collapsed": false
   },
   "outputs": [],
   "source": [
    "random.seed(25)\n",
    "motiv_random = round(my_functions.estimatedMotif(CRE,1500,2000,actualSet))"
   ]
  },
  {
   "cell_type": "code",
   "execution_count": 43,
   "metadata": {
    "collapsed": false
   },
   "outputs": [
    {
     "data": {
      "text/plain": [
       "56.0"
      ]
     },
     "execution_count": 43,
     "metadata": {},
     "output_type": "execute_result"
    }
   ],
   "source": [
    "motiv_random"
   ]
  },
  {
   "cell_type": "markdown",
   "metadata": {},
   "source": [
    "<br>"
   ]
  },
  {
   "cell_type": "markdown",
   "metadata": {},
   "source": [
    "## P value\n",
    "Por ultimo, vamos a calcular un *P*-value para el numero de promotores que contienen al menos 1 SRME, que hemos encontrado en nuestro data set"
   ]
  },
  {
   "cell_type": "markdown",
   "metadata": {},
   "source": [
    "cuantas promotores de 1500bp debo tener para encontrar al azar 34 promotores que tengan al menos 1 vez el SRME ?"
   ]
  },
  {
   "cell_type": "code",
   "execution_count": 36,
   "metadata": {
    "collapsed": false
   },
   "outputs": [
    {
     "data": {
      "text/plain": [
       "48"
      ]
     },
     "execution_count": 36,
     "metadata": {},
     "output_type": "execute_result"
    }
   ],
   "source": [
    "random.seed(10)\n",
    "n = 34\n",
    "my_functions.getTarget(CRE,1500,n)"
   ]
  },
  {
   "cell_type": "markdown",
   "metadata": {},
   "source": [
    "En lugar de hacerlo una vez, ejecuto la funcion getTarget las veces que quiera simularlo y veo como cambia el resultado."
   ]
  },
  {
   "cell_type": "code",
   "execution_count": 39,
   "metadata": {
    "collapsed": false
   },
   "outputs": [
    {
     "name": "stdout",
     "output_type": "stream",
     "text": [
      "Sim. 200 ... 47.24\n",
      "Sim. 400 ... 47.25\n",
      "Sim. 600 ... 47.37\n",
      "Sim. 800 ... 47.55\n",
      "Sim. 1000 ... 47.58\n",
      "Sim. 1200 ... 47.61\n",
      "Sim. 1400 ... 47.54\n",
      "Sim. 1600 ... 47.59\n",
      "Sim. 1800 ... 47.67\n",
      "Sim. 2000 ... 47.74\n",
      "Average number of tries = 47.772\n",
      "\n"
     ]
    }
   ],
   "source": [
    "random.seed(10)\n",
    "my_functions.runSim(CRE,1500,n,2000, len(genome))"
   ]
  },
  {
   "cell_type": "code",
   "execution_count": null,
   "metadata": {
    "collapsed": true
   },
   "outputs": [],
   "source": []
  },
  {
   "cell_type": "code",
   "execution_count": null,
   "metadata": {
    "collapsed": true
   },
   "outputs": [],
   "source": []
  },
  {
   "cell_type": "markdown",
   "metadata": {
    "collapsed": true
   },
   "source": [
    "Otros regulatory elements:"
   ]
  },
  {
   "cell_type": "code",
   "execution_count": 7,
   "metadata": {
    "collapsed": true
   },
   "outputs": [],
   "source": [
    "WBOX=   ['TGACC', 'TGACT'] #Ameline-Torregrosa (2008)\n",
    "CBF =   ['GTCGAC']         #Ameline-Torregrosa (2008)\n",
    "DRE =   ['GCCGAC', 'ACCGAC'] #Ameline-Torregrosa (2008)\n",
    "CAMTA=['ACGCGC', 'ACGCGG', 'ACGCGT', 'CCGCGC', 'CCGCGG', 'CCGCGT', 'GCGCGC', 'GCGCGG', 'GCGCGT']\n",
    "ABRE=['ACGTGTC']\n",
    "AtBH5 =['CAATAATTG', 'CAATCATTG', 'CAATTATTG', 'CAATGATTG']\n",
    "RAV1B=['CACCTG']\n",
    "nuevo1 = ['TGTCA']\n",
    "nuevo2=['AGATCCAA']\n",
    "WLE1=['TGACA']\n",
    "RAV1AAT=['CAACA']\n",
    "ASF1 = ['TGACG']\n",
    "nuevo4 =['CTCTT']\n",
    "DOFCOREZM=['AAAG']\n",
    "CACTFTPPCA1 =['CACT','TACT']\n",
    "CAATBOX1=['CCAAT']\n",
    "GT1CONSENSUS = ['GAAAAA','GATAAA','GAAAAT','GATAAT','GGAAAA','GGAAAT','GGTAAA','GGTAAT']\n",
    "GTGANTG10=['GTGA']\n",
    "ARR1AT = ['AGATT','TGATT','CGATT','GGATT']\n",
    "GATABOX = ['GATA']\n",
    "POLLEN1LELAT52=['AGAAA']\n",
    "WRKY71OS=['TGAC'] # esta incluido en WBBOXPCWRKY1: Zhong 2015 NBS castanea los llama igual\n",
    "ROOTMOTIFTAPOX1=['ATATT']\n",
    "GT1GMSCAM4 = ['GAAAAA']\n",
    "WBBOXPCWRKY1 =['TTTGACC','TTTGACT']\n",
    "WBOXATNPR1 =['TTGAC']\n",
    "WBOXHVISO1 =['TGACT'] # esta incluido en WBBOXPCWRKY1\n",
    "WBOXNTCHN48 =['CTGACC','CTGACT']\n",
    "WBOXNTERF3 =['TGACC','TGACT']\n",
    "AuxRE1 = ['TGTCTC']                #auxin response element\n",
    "CATATGGMSAUR = ['CATATG']          #auxin-responsiveness\n",
    "DRE1COREZMRAB17 = ['ACCGAGA']      #drought\n",
    "DRE2COREZMRAB17 =['ACCGAC']        #drought\n",
    "LTRE1HVBLT49 = ['CCGAAA']          # low-temperature-responsive element, cold\n",
    "LTREATLTI78 = ['ACCGACA']          # low-temperature-responsive element, cold\n",
    "LTRECOREATCOR15 = ['CCGAC']        # low-temperature-responsive element, cold\n",
    "MYCATERD1 = ['CATGTG']             # dehydration, water stress\n",
    "SREATMSD = ['TTATCC']              # sugar-responsive motif\n",
    "SURE1STPAT21 = ['AATAGAAAA']       # sucrose responsive element (SURE)\n",
    "SURE2STPAT21 = ['AATACTAAT']       # sucrose Responsive element (SURE2)\n",
    "IBOXCORENT = ['GATAAGA','GATAAGG'] # light\n",
    "CBF1 = ['TGGCCGAC']\n",
    "DRE_like = ['AACCGACA', 'AGCCGACA', 'GACCGACA', 'GGCCGACA', 'TACCGACA', 'TGCCGACA', \n",
    "'AACCGACT', 'AGCCGACT', 'GACCGACT', 'GGCCGACT', 'TACCGACT', 'TGCCGACT']\n",
    "Gbox =       ['CACATG'] # overrepresented en http://stan.cropsci.uiuc.edu/cgi-bin/elefinder/compare.cgi\n",
    "MYCATERD22 = ['CACATG'] #Table S6 Singh and Jain 2015 Front Plant Sci         \n",
    "nuevo3 =     ['GAAAAA']    #esto es GT1GMSCAM4\n",
    "GT1GMSCAM4 = ['GAAAAA']    #Table S6 Singh and Jain 2015 Front Plant Sci         \n",
    "ERE_GCCbox  = ['AGCCGCC']   # Ameline-Torregrosa (2008)\n",
    "ERE_GCCbox  = ['AGCCGCC']   # Woycicki (2011)\n",
    "AGCBOXNPGLB = ['AGCCGCC']   # verano 2016\n",
    "GCC_box =     ['GCCGCC']    # verano 2016 \n",
    "WRKY71OS=['TGAC'] # esta incluido en WBBOXPCWRKY1: Zhong 2015 NBS castanea los llama igual\n",
    "WBBOXPCWRKY1 =['TTTGACC','TTTGACT']\n",
    "\n",
    "\n",
    "\n",
    "\n",
    "todos = [WBOX,CBF, DRE, CAMTA, ABRE, AtBH5,RAV1B, nuevo1, nuevo2, WLE1, RAV1AAT,\\\n",
    "ASF1, nuevo4, DOFCOREZM, CACTFTPPCA1, CAATBOX1, GT1CONSENSUS, GTGANTG10, ARR1AT,\\\n",
    "GATABOX, POLLEN1LELAT52, ROOTMOTIFTAPOX1, WBBOXPCWRKY1, \\\n",
    "WBOXATNPR1, WBOXHVISO1, WBOXNTCHN48, WBOXNTERF3, AuxRE1,CATATGGMSAUR, DRE1COREZMRAB17,\\\n",
    "DRE2COREZMRAB17, LTRE1HVBLT49, LTREATLTI78, LTRECOREATCOR15, MYCATERD1, \\\n",
    "SREATMSD,SURE1STPAT21,SURE2STPAT21,IBOXCORENT, MYCATERD22, GT1GMSCAM4, AGCBOXNPGLB, CBF1, DRE_like]"
   ]
  },
  {
   "cell_type": "code",
   "execution_count": 42,
   "metadata": {
    "collapsed": false,
    "scrolled": true
   },
   "outputs": [
    {
     "name": "stdout",
     "output_type": "stream",
     "text": [
      "59 promoters with 144 occurrences\n",
      "1 promoters with 1 occurrences\n",
      "7 promoters with 7 occurrences\n",
      "12 promoters with 12 occurrences\n",
      "2 promoters with 2 occurrences\n",
      "5 promoters with 5 occurrences\n",
      "3 promoters with 3 occurrences\n",
      "59 promoters with 112 occurrences\n",
      "3 promoters with 4 occurrences\n",
      "56 promoters with 122 occurrences\n",
      "57 promoters with 155 occurrences\n",
      "20 promoters with 23 occurrences\n",
      "65 promoters with 180 occurrences\n",
      "71 promoters with 678 occurrences\n",
      "71 promoters with 807 occurrences\n",
      "56 promoters with 118 occurrences\n",
      "70 promoters with 502 occurrences\n",
      "70 promoters with 353 occurrences\n",
      "71 promoters with 692 occurrences\n",
      "71 promoters with 487 occurrences\n",
      "67 promoters with 292 occurrences\n",
      "71 promoters with 623 occurrences\n",
      "14 promoters with 19 occurrences\n",
      "54 promoters with 113 occurrences\n",
      "48 promoters with 83 occurrences\n",
      "19 promoters with 22 occurrences\n",
      "59 promoters with 144 occurrences\n",
      "23 promoters with 30 occurrences\n",
      "17 promoters with 21 occurrences\n",
      "2 promoters with 2 occurrences\n",
      "7 promoters with 7 occurrences\n",
      "5 promoters with 5 occurrences\n",
      "1 promoters with 1 occurrences\n",
      "13 promoters with 16 occurrences\n",
      "20 promoters with 25 occurrences\n",
      "16 promoters with 18 occurrences\n",
      "4 promoters with 5 occurrences\n",
      "4 promoters with 4 occurrences\n",
      "11 promoters with 12 occurrences\n",
      "20 promoters with 24 occurrences\n",
      "59 promoters with 174 occurrences\n",
      "0 promoters with 0 occurrences\n",
      "0 promoters with 0 occurrences\n",
      "3 promoters with 3 occurrences\n"
     ]
    }
   ],
   "source": [
    "for t in todos : \n",
    "    CRE = t\n",
    "    a,b = my_functions.search(CRE,genome)\n",
    "    occurr = 0\n",
    "    for m in b:\n",
    "        occurr +=len(m)\n",
    "    print len(set(a)), 'promoters with', occurr, 'occurrences'"
   ]
  },
  {
   "cell_type": "markdown",
   "metadata": {
    "collapsed": true
   },
   "source": [
    "In addition, Puedo estimar n promotores q deberian haber salido al menos con 1 motivo por azar"
   ]
  },
  {
   "cell_type": "code",
   "execution_count": 43,
   "metadata": {
    "collapsed": false
   },
   "outputs": [
    {
     "name": "stdout",
     "output_type": "stream",
     "text": [
      "61.0 promoters expected at least with 1 motif\n",
      "5.0 promoters expected at least with 1 motif\n",
      "8.0 promoters expected at least with 1 motif\n",
      "14.0 promoters expected at least with 1 motif\n",
      "2.0 promoters expected at least with 1 motif\n",
      "4.0 promoters expected at least with 1 motif\n",
      "6.0 promoters expected at least with 1 motif\n",
      "54.0 promoters expected at least with 1 motif\n",
      "2.0 promoters expected at least with 1 motif\n",
      "52.0 promoters expected at least with 1 motif\n",
      "54.0 promoters expected at least with 1 motif\n",
      "28.0 promoters expected at least with 1 motif\n",
      "58.0 promoters expected at least with 1 motif\n",
      "71.0 promoters expected at least with 1 motif\n",
      "71.0 promoters expected at least with 1 motif\n",
      "56.0 promoters expected at least with 1 motif\n",
      "71.0 promoters expected at least with 1 motif\n",
      "69.0 promoters expected at least with 1 motif\n",
      "71.0 promoters expected at least with 1 motif\n",
      "71.0 promoters expected at least with 1 motif\n",
      "67.0 promoters expected at least with 1 motif\n",
      "71.0 promoters expected at least with 1 motif\n",
      "16.0 promoters expected at least with 1 motif\n",
      "54.0 promoters expected at least with 1 motif\n",
      "54.0 promoters expected at least with 1 motif\n",
      "17.0 promoters expected at least with 1 motif\n",
      "61.0 promoters expected at least with 1 motif\n",
      "16.0 promoters expected at least with 1 motif\n",
      "28.0 promoters expected at least with 1 motif\n",
      "1.0 promoters expected at least with 1 motif\n",
      "6.0 promoters expected at least with 1 motif\n",
      "13.0 promoters expected at least with 1 motif\n",
      "2.0 promoters expected at least with 1 motif\n",
      "14.0 promoters expected at least with 1 motif\n",
      "13.0 promoters expected at least with 1 motif\n",
      "33.0 promoters expected at least with 1 motif\n",
      "3.0 promoters expected at least with 1 motif\n",
      "5.0 promoters expected at least with 1 motif\n",
      "13.0 promoters expected at least with 1 motif\n",
      "13.0 promoters expected at least with 1 motif\n",
      "45.0 promoters expected at least with 1 motif\n",
      "0.0 promoters expected at least with 1 motif\n",
      "0.0 promoters expected at least with 1 motif\n",
      "5.0 promoters expected at least with 1 motif\n"
     ]
    }
   ],
   "source": [
    "import random\n",
    "nset = 2000\n",
    "bp = 1500\n",
    "actualSet = len(genome)\n",
    "for t in todos : \n",
    "    CRE = t\n",
    "    random.seed(25)\n",
    "    print round(my_functions.atLeastOneMotif(CRE,bp,nset)*actualSet), 'promoters expected at least with 1 motif'"
   ]
  },
  {
   "cell_type": "markdown",
   "metadata": {},
   "source": [
    "puedo estimar del mismo modo el numero de motivos que deberian haber salido."
   ]
  },
  {
   "cell_type": "code",
   "execution_count": 56,
   "metadata": {
    "collapsed": false
   },
   "outputs": [
    {
     "name": "stdout",
     "output_type": "stream",
     "text": [
      "140.0\n",
      "5.0\n",
      "8.0\n",
      "16.0\n",
      "2.0\n",
      "5.0\n",
      "6.0\n",
      "102.0\n",
      "2.0\n",
      "97.0\n",
      "101.0\n",
      "36.0\n",
      "0.0\n",
      "600.0\n",
      "1074.0\n",
      "107.0\n",
      "419.0\n",
      "237.0\n",
      "660.0\n",
      "626.0\n",
      "208.0\n",
      "652.0\n",
      "18.0\n",
      "101.0\n",
      "99.0\n",
      "20.0\n",
      "140.0\n",
      "18.0\n",
      "36.0\n",
      "1.0\n",
      "6.0\n",
      "15.0\n",
      "2.0\n",
      "16.0\n",
      "14.0\n",
      "42.0\n",
      "3.0\n",
      "5.0\n",
      "14.0\n",
      "14.0\n",
      "72.0\n",
      "0.0\n",
      "0.0\n",
      "5.0\n"
     ]
    }
   ],
   "source": [
    "import random\n",
    "nset = 2000\n",
    "bp = 1500\n",
    "actualSet = len(genome)\n",
    "for t in todos : \n",
    "    CRE = t\n",
    "    random.seed(25)\n",
    "    motiv_random = round(my_functions.estimatedMotif(CRE,bp,nset,actualSet))\n",
    "    print motiv_random"
   ]
  },
  {
   "cell_type": "markdown",
   "metadata": {},
   "source": [
    "Caclulo P value para cada CRE"
   ]
  },
  {
   "cell_type": "code",
   "execution_count": 47,
   "metadata": {
    "collapsed": false
   },
   "outputs": [
    {
     "name": "stdout",
     "output_type": "stream",
     "text": [
      "Sim. 200 ... 78.31\n",
      "Sim. 400 ... 78.83\n",
      "Sim. 600 ... 78.84\n",
      "Sim. 800 ... 78.88\n",
      "Sim. 1000 ... 79.07\n",
      "Sim. 1200 ... 79.06\n",
      "Sim. 1400 ... 79.16\n",
      "Sim. 1600 ... 79.2\n",
      "Sim. 1800 ... 79.19\n",
      "Sim. 2000 ... 79.2\n",
      "Average number of tries = 79.2385\n",
      "P-value= 0.0126201278419\n",
      "\n"
     ]
    }
   ],
   "source": [
    "my_functions.runSim(nuevo4,1500,65,2000, len(genome))"
   ]
  },
  {
   "cell_type": "code",
   "execution_count": 60,
   "metadata": {
    "collapsed": false
   },
   "outputs": [
    {
     "name": "stdout",
     "output_type": "stream",
     "text": [
      "Sim. 200 ... 77.92\n",
      "Sim. 400 ... 78.22\n",
      "Sim. 600 ... 78.31\n",
      "Sim. 800 ... 78.33\n",
      "Sim. 1000 ... 78.39\n",
      "Sim. 1200 ... 78.39\n",
      "Sim. 1400 ... 78.36\n",
      "Sim. 1600 ... 78.31\n",
      "Sim. 1800 ... 78.25\n",
      "Sim. 2000 ... 78.25\n",
      "Average number of tries = 78.288\n",
      "P-value= 0.0127733496832\n",
      "\n",
      "Sim. 200 ... 123.08\n",
      "Sim. 400 ... 123.39\n",
      "Sim. 600 ... 122.84\n",
      "Sim. 800 ... 121.15\n",
      "Sim. 1000 ... 122.51\n",
      "Sim. 1200 ... 122.45\n",
      "Sim. 1400 ... 123.28\n",
      "Sim. 1600 ... 124.33\n",
      "Sim. 1800 ... 124.4\n",
      "Sim. 2000 ... 125.01\n",
      "Average number of tries = 125.0685\n",
      "P-value= 0.00799561840112\n",
      "\n",
      "Sim. 200 ... 76.13\n",
      "Sim. 400 ... 76.07\n",
      "Sim. 600 ... 76.09\n",
      "Sim. 800 ... 76.21\n",
      "Sim. 1000 ... 76.18\n",
      "Sim. 1200 ... 76.1\n",
      "Sim. 1400 ... 76.1\n",
      "Sim. 1600 ... 76.09\n",
      "Sim. 1800 ... 76.14\n",
      "Sim. 2000 ... 76.19\n",
      "Average number of tries = 76.2305\n",
      "P-value= 0.0131181088934\n",
      "\n",
      "Sim. 200 ... 74.82\n",
      "Sim. 400 ... 74.97\n",
      "Sim. 600 ... 75.05\n",
      "Sim. 800 ... 74.98\n",
      "Sim. 1000 ... 75.04\n",
      "Sim. 1200 ... 75.0\n",
      "Sim. 1400 ... 75.02\n",
      "Sim. 1600 ... 74.99\n",
      "Sim. 1800 ... 75.03\n",
      "Sim. 2000 ... 75.08\n",
      "Average number of tries = 75.111\n",
      "P-value= 0.0133136291622\n",
      "\n",
      "Sim. 200 ... 69.68\n",
      "Sim. 400 ... 70.33\n",
      "Sim. 600 ... 70.98\n",
      "Sim. 800 ... 70.62\n",
      "Sim. 1000 ... 70.2\n",
      "Sim. 1200 ... 70.38\n",
      "Sim. 1400 ... 70.15\n",
      "Sim. 1600 ... 69.94\n",
      "Sim. 1800 ... 69.96\n",
      "Sim. 2000 ... 69.85\n",
      "Average number of tries = 69.888\n",
      "P-value= 0.0143086080586\n",
      "\n",
      "Sim. 200 ... 113.11\n",
      "Sim. 400 ... 114.88\n",
      "Sim. 600 ... 115.12\n",
      "Sim. 800 ... 114.98\n",
      "Sim. 1000 ... 114.79\n",
      "Sim. 1200 ... 115.09\n",
      "Sim. 1400 ... 115.01\n",
      "Sim. 1600 ... 115.05\n",
      "Sim. 1800 ... 114.85\n",
      "Sim. 2000 ... 114.87\n",
      "Average number of tries = 114.947\n",
      "P-value= 0.00869966158316\n",
      "\n",
      "Sim. 200 ... 78.8\n",
      "Sim. 400 ... 77.31\n",
      "Sim. 600 ... 77.11\n",
      "Sim. 800 ... 78.14\n",
      "Sim. 1000 ... 78.56\n",
      "Sim. 1200 ... 79.72\n",
      "Sim. 1400 ... 79.58\n",
      "Sim. 1600 ... 79.79\n",
      "Sim. 1800 ... 80.13\n",
      "Sim. 2000 ... 80.77\n",
      "Average number of tries = 80.91\n",
      "P-value= 0.012359411692\n",
      "\n",
      "Sim. 200 ... 93.07\n",
      "Sim. 400 ... 93.16\n",
      "Sim. 600 ... 92.69\n",
      "Sim. 800 ... 93.02\n",
      "Sim. 1000 ... 92.94\n",
      "Sim. 1200 ... 92.22\n",
      "Sim. 1400 ... 91.98\n",
      "Sim. 1600 ... 91.42\n",
      "Sim. 1800 ... 91.39\n",
      "Sim. 2000 ... 91.6\n",
      "Average number of tries = 91.6475\n",
      "P-value= 0.0109113723779\n",
      "\n",
      "Sim. 200 ... 117.45\n",
      "Sim. 400 ... 119.34\n",
      "Sim. 600 ... 120.5\n",
      "Sim. 800 ... 121.38\n",
      "Sim. 1000 ... 121.11\n",
      "Sim. 1200 ... 121.46\n",
      "Sim. 1400 ... 121.45\n",
      "Sim. 1600 ... 121.14\n",
      "Sim. 1800 ... 120.8\n",
      "Sim. 2000 ... 120.98\n",
      "Average number of tries = 121.023\n",
      "P-value= 0.00826289217752\n",
      "\n",
      "Sim. 200 ... 83.02\n",
      "Sim. 400 ... 86.89\n",
      "Sim. 600 ... 87.93\n",
      "Sim. 800 ... 87.99\n",
      "Sim. 1000 ... 88.75\n",
      "Sim. 1200 ... 88.58\n",
      "Sim. 1400 ... 87.67\n",
      "Sim. 1600 ... 87.91\n",
      "Sim. 1800 ... 87.88\n",
      "Sim. 2000 ... 88.18\n",
      "Average number of tries = 88.2365\n",
      "P-value= 0.0113331784466\n",
      "\n",
      "Sim. 200 ... 109.57\n",
      "Sim. 400 ... 109.25\n",
      "Sim. 600 ... 109.47\n",
      "Sim. 800 ... 110.06\n",
      "Sim. 1000 ... 110.46\n",
      "Sim. 1200 ... 110.36\n",
      "Sim. 1400 ... 110.54\n",
      "Sim. 1600 ... 110.62\n",
      "Sim. 1800 ... 110.76\n",
      "Sim. 2000 ... 110.7\n",
      "Average number of tries = 110.759\n",
      "P-value= 0.00902861167038\n",
      "\n",
      "Sim. 200 ... 90.78\n",
      "Sim. 400 ... 91.83\n",
      "Sim. 600 ... 92.16\n",
      "Sim. 800 ... 92.09\n",
      "Sim. 1000 ... 92.08\n",
      "Sim. 1200 ... 92.0\n",
      "Sim. 1400 ... 92.01\n",
      "Sim. 1600 ... 92.11\n",
      "Sim. 1800 ... 92.11\n",
      "Sim. 2000 ... 92.08\n",
      "Average number of tries = 92.1235\n",
      "P-value= 0.0108549935684\n",
      "\n"
     ]
    }
   ],
   "source": [
    "random.seed(25)\n",
    "my_functions.runSim(nuevo1,1500,59,2000)\n",
    "my_functions.runSim(nuevo2,1500,3,2000)\n",
    "my_functions.runSim(WLE1,1500,56,2000)\n",
    "my_functions.runSim(RAV1AAT,1500,57,2000)\n",
    "my_functions.runSim(WBOXNTCHN48,1500,19,2000)\n",
    "my_functions.runSim(AuxRE1,1500,23,2000)\n",
    "my_functions.runSim(DRE1COREZMRAB17,1500,2,2000)\n",
    "my_functions.runSim(DRE2COREZMRAB17,1500,7,2000)\n",
    "my_functions.runSim(MYCATERD1,1500,20,2000)\n",
    "my_functions.runSim(SURE1STPAT21,1500,4,2000)\n",
    "my_functions.runSim(MYCATERD22,1500,20,2000)\n",
    "my_functions.runSim(GT1GMSCAM4, 1500, 59, 2000)"
   ]
  },
  {
   "cell_type": "code",
   "execution_count": null,
   "metadata": {
    "collapsed": true
   },
   "outputs": [],
   "source": [
    "Double check WBOXNTCHN48 bc it requires only 69.89 tries to find 19 seqs. "
   ]
  },
  {
   "cell_type": "code",
   "execution_count": 68,
   "metadata": {
    "collapsed": false
   },
   "outputs": [
    {
     "name": "stdout",
     "output_type": "stream",
     "text": [
      "19 promoters with 22 occurrences\n",
      "17.0 promoters expected at least with 1 motif\n"
     ]
    }
   ],
   "source": [
    "todos2 = [WBOXNTCHN48]\n",
    "for t in todos2 : \n",
    "    CRE = t\n",
    "    a,b = my_functions.search(CRE,genome)\n",
    "    occurr = 0\n",
    "    for m in b:\n",
    "        occurr +=len(m)\n",
    "    print len(set(a)), 'promoters with', occurr, 'occurrences'\n",
    "    random.seed(25)\n",
    "    print round(my_functions.atLeastOneMotif(CRE,bp,nset)*actualSet), 'promoters expected at least with 1 motif'"
   ]
  },
  {
   "cell_type": "code",
   "execution_count": 71,
   "metadata": {
    "collapsed": false
   },
   "outputs": [
    {
     "name": "stdout",
     "output_type": "stream",
     "text": [
      "[NbConvertApp] WARNING | pattern u'giusep.ipynb' matched no files\n",
      "This application is used to convert notebook files (*.ipynb) to various other\n",
      "formats.\n",
      "\n",
      "WARNING: THE COMMANDLINE INTERFACE MAY CHANGE IN FUTURE RELEASES.\n",
      "\n",
      "Options\n",
      "-------\n",
      "\n",
      "Arguments that take values are actually convenience aliases to full\n",
      "Configurables, whose aliases are listed on the help line. For more information\n",
      "on full configurables, see '--help-all'.\n",
      "\n",
      "--execute\n",
      "    Execute the notebook prior to export.\n",
      "--allow-errors\n",
      "    Continue notebook execution even if one of the cells throws an error and include the error message in the cell output (the default behaviour is to abort conversion). This flag is only relevant if '--execute' was specified, too.\n",
      "--stdout\n",
      "    Write notebook output to stdout instead of files.\n",
      "--stdin\n",
      "    read a single notebook file from stdin. Write the resulting notebook with default basename 'notebook.*'\n",
      "--inplace\n",
      "    Run nbconvert in place, overwriting the existing notebook (only \n",
      "    relevant when converting to notebook format)\n",
      "-y\n",
      "    Answer yes to any questions instead of prompting.\n",
      "--debug\n",
      "    set log level to logging.DEBUG (maximize logging output)\n",
      "--generate-config\n",
      "    generate default config file\n",
      "--nbformat=<Enum> (NotebookExporter.nbformat_version)\n",
      "    Default: 4\n",
      "    Choices: [1, 2, 3, 4]\n",
      "    The nbformat version to write. Use this to downgrade notebooks.\n",
      "--output-dir=<Unicode> (FilesWriter.build_directory)\n",
      "    Default: ''\n",
      "    Directory to write output to.  Leave blank to output to the current\n",
      "    directory\n",
      "--writer=<DottedObjectName> (NbConvertApp.writer_class)\n",
      "    Default: 'FilesWriter'\n",
      "    Writer class used to write the  results of the conversion\n",
      "--log-level=<Enum> (Application.log_level)\n",
      "    Default: 30\n",
      "    Choices: (0, 10, 20, 30, 40, 50, 'DEBUG', 'INFO', 'WARN', 'ERROR', 'CRITICAL')\n",
      "    Set the log level by value or name.\n",
      "--reveal-prefix=<Unicode> (SlidesExporter.reveal_url_prefix)\n",
      "    Default: u''\n",
      "    The URL prefix for reveal.js. This can be a a relative URL for a local copy\n",
      "    of reveal.js, or point to a CDN.\n",
      "    For speaker notes to work, a local reveal.js prefix must be used.\n",
      "--to=<Unicode> (NbConvertApp.export_format)\n",
      "    Default: 'html'\n",
      "    The export format to be used, either one of the built-in formats, or a\n",
      "    dotted object name that represents the import path for an `Exporter` class\n",
      "--template=<Unicode> (TemplateExporter.template_file)\n",
      "    Default: u''\n",
      "    Name of the template file to use\n",
      "--output=<Unicode> (NbConvertApp.output_base)\n",
      "    Default: ''\n",
      "    overwrite base name use for output files. can only be used when converting\n",
      "    one notebook at a time.\n",
      "--post=<DottedOrNone> (NbConvertApp.postprocessor_class)\n",
      "    Default: u''\n",
      "    PostProcessor class used to write the results of the conversion\n",
      "--config=<Unicode> (JupyterApp.config_file)\n",
      "    Default: u''\n",
      "    Full path of a config file.\n",
      "\n",
      "To see all available configurables, use `--help-all`\n",
      "\n",
      "Examples\n",
      "--------\n",
      "\n",
      "    The simplest way to use nbconvert is\n",
      "    \n",
      "    > jupyter nbconvert mynotebook.ipynb\n",
      "    \n",
      "    which will convert mynotebook.ipynb to the default format (probably HTML).\n",
      "    \n",
      "    You can specify the export format with `--to`.\n",
      "    Options include ['custom', 'html', 'latex', 'markdown', 'notebook', 'pdf', 'python', 'rst', 'script', 'slides']\n",
      "    \n",
      "    > jupyter nbconvert --to latex mynotebook.ipynb\n",
      "    \n",
      "    Both HTML and LaTeX support multiple output templates. LaTeX includes\n",
      "    'base', 'article' and 'report'.  HTML includes 'basic' and 'full'. You\n",
      "    can specify the flavor of the format used.\n",
      "    \n",
      "    > jupyter nbconvert --to html --template basic mynotebook.ipynb\n",
      "    \n",
      "    You can also pipe the output to stdout, rather than a file\n",
      "    \n",
      "    > jupyter nbconvert mynotebook.ipynb --stdout\n",
      "    \n",
      "    PDF is generated via latex\n",
      "    \n",
      "    > jupyter nbconvert mynotebook.ipynb --to pdf\n",
      "    \n",
      "    You can get (and serve) a Reveal.js-powered slideshow\n",
      "    \n",
      "    > jupyter nbconvert myslides.ipynb --to slides --post serve\n",
      "    \n",
      "    Multiple notebooks can be given at the command line in a couple of \n",
      "    different ways:\n",
      "    \n",
      "    > jupyter nbconvert notebook*.ipynb\n",
      "    > jupyter nbconvert notebook1.ipynb notebook2.ipynb\n",
      "    \n",
      "    or you can specify the notebooks list in a config file, containing::\n",
      "    \n",
      "        c.NbConvertApp.notebooks = [\"my_notebook.ipynb\"]\n",
      "    \n",
      "    > jupyter nbconvert --config mycfg.py\n",
      "\n"
     ]
    }
   ],
   "source": [
    "! jupyter nbconvert --to html giusep.ipynb"
   ]
  },
  {
   "cell_type": "markdown",
   "metadata": {
    "collapsed": true
   },
   "source": [
    "### Look at the promoters containing specific Cis-regulatory elements:"
   ]
  },
  {
   "cell_type": "code",
   "execution_count": 8,
   "metadata": {
    "collapsed": true
   },
   "outputs": [],
   "source": [
    "CRE = nuevo2"
   ]
  },
  {
   "cell_type": "code",
   "execution_count": 9,
   "metadata": {
    "collapsed": true
   },
   "outputs": [],
   "source": [
    "giuseppe = my_functions.search(CRE, genome)"
   ]
  },
  {
   "cell_type": "code",
   "execution_count": 10,
   "metadata": {
    "collapsed": false
   },
   "outputs": [
    {
     "data": {
      "text/plain": [
       "['LOC101497300', 'LOC101502246', 'LOC101497300']"
      ]
     },
     "execution_count": 10,
     "metadata": {},
     "output_type": "execute_result"
    }
   ],
   "source": [
    "# Promoters containing nuevo2\n",
    "[names[i] for i in list(set(giuseppe[0]))]"
   ]
  },
  {
   "cell_type": "markdown",
   "metadata": {},
   "source": [
    "<br>"
   ]
  },
  {
   "cell_type": "code",
   "execution_count": 13,
   "metadata": {
    "collapsed": false
   },
   "outputs": [
    {
     "data": {
      "text/plain": [
       "['LOC101488528',\n",
       " 'LOC101496545',\n",
       " 'LOC101496545',\n",
       " 'LOC101507509',\n",
       " 'LOC101512314',\n",
       " 'LOC101509623',\n",
       " 'LOC101512641',\n",
       " 'LOC101491988',\n",
       " 'LOC101499380',\n",
       " 'LOC101510382',\n",
       " 'LOC101509081',\n",
       " 'LOC101508141',\n",
       " 'LOC101507820/LOC101508141',\n",
       " 'LOC101497864',\n",
       " 'LOC101489093',\n",
       " 'LOC101513700',\n",
       " 'LOC101512313/LOC101512641',\n",
       " 'LOC101507192',\n",
       " 'LOC101506197',\n",
       " 'LOC101505881',\n",
       " 'LOC101503207',\n",
       " 'LOC101498851',\n",
       " 'LOC101497950']"
      ]
     },
     "execution_count": 13,
     "metadata": {},
     "output_type": "execute_result"
    }
   ],
   "source": [
    "# Promoters containing : \n",
    "CRE = AuxRE1\n",
    "giuseppe = my_functions.search(CRE, genome)\n",
    "[names[i] for i in list(set(giuseppe[0]))]"
   ]
  },
  {
   "cell_type": "markdown",
   "metadata": {},
   "source": [
    "<br>"
   ]
  },
  {
   "cell_type": "code",
   "execution_count": 15,
   "metadata": {
    "collapsed": false
   },
   "outputs": [
    {
     "data": {
      "text/plain": [
       "['LOC101488528',\n",
       " 'LOC101501382',\n",
       " 'LOC101499491',\n",
       " 'LOC101499173',\n",
       " 'LOC101497864',\n",
       " 'LOC101488528',\n",
       " 'LOC101495888',\n",
       " 'LOC101493319',\n",
       " 'LOC101498852',\n",
       " 'LOC101510480',\n",
       " 'LOC101513700',\n",
       " 'LOC101508993',\n",
       " 'LOC101511988',\n",
       " 'LOC101510480/LOC101493641',\n",
       " 'LOC101491988',\n",
       " 'LOC101510158',\n",
       " 'LOC101509308',\n",
       " 'LOC101499380',\n",
       " 'LOC101514272',\n",
       " 'LOC101509081']"
      ]
     },
     "execution_count": 15,
     "metadata": {},
     "output_type": "execute_result"
    }
   ],
   "source": [
    "# Promoters containing : \n",
    "CRE = MYCATERD1\n",
    "giuseppe = my_functions.search(CRE, genome)\n",
    "[names[i] for i in list(set(giuseppe[0]))]"
   ]
  },
  {
   "cell_type": "code",
   "execution_count": 16,
   "metadata": {
    "collapsed": false
   },
   "outputs": [
    {
     "data": {
      "text/plain": [
       "['LOC101499999',\n",
       " 'LOC101496545',\n",
       " 'LOC101496545',\n",
       " 'LOC101510810',\n",
       " 'LOC101497300',\n",
       " 'LOC101496768',\n",
       " 'LOC101489093',\n",
       " 'LOC101493319',\n",
       " 'LOC101498852',\n",
       " 'LOC101497300',\n",
       " 'LOC101496657',\n",
       " 'LOC101510480/LOC101493641',\n",
       " 'LOC101510480',\n",
       " 'LOC101510158',\n",
       " 'LOC101514272',\n",
       " 'LOC101512642',\n",
       " 'LOC101505127',\n",
       " 'LOC101505882',\n",
       " 'LOC101497299',\n",
       " 'LOC101504502']"
      ]
     },
     "execution_count": 16,
     "metadata": {},
     "output_type": "execute_result"
    }
   ],
   "source": [
    "# Promoters containing : \n",
    "CRE = MYCATERD22\n",
    "giuseppe = my_functions.search(CRE, genome)\n",
    "[names[i] for i in list(set(giuseppe[0]))]"
   ]
  },
  {
   "cell_type": "code",
   "execution_count": null,
   "metadata": {
    "collapsed": true
   },
   "outputs": [],
   "source": []
  }
 ],
 "metadata": {
  "kernelspec": {
   "display_name": "Python 2",
   "language": "python",
   "name": "python2"
  },
  "language_info": {
   "codemirror_mode": {
    "name": "ipython",
    "version": 2
   },
   "file_extension": ".py",
   "mimetype": "text/x-python",
   "name": "python",
   "nbconvert_exporter": "python",
   "pygments_lexer": "ipython2",
   "version": "2.7.11"
  }
 },
 "nbformat": 4,
 "nbformat_minor": 0
}
